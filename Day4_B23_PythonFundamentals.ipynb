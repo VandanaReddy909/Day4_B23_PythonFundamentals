{
 "cells": [
  {
   "cell_type": "code",
   "execution_count": 9,
   "metadata": {},
   "outputs": [],
   "source": [
    "students = ['vandana','Anjali','Arun','Aravind','Spandana']"
   ]
  },
  {
   "cell_type": "code",
   "execution_count": 4,
   "metadata": {},
   "outputs": [
    {
     "data": {
      "text/plain": [
       "list"
      ]
     },
     "execution_count": 4,
     "metadata": {},
     "output_type": "execute_result"
    }
   ],
   "source": [
    "type(students) #type(variable_name) gives the datatype of a variable"
   ]
  },
  {
   "cell_type": "code",
   "execution_count": 10,
   "metadata": {},
   "outputs": [
    {
     "name": "stdout",
     "output_type": "stream",
     "text": [
      "['vandana', 'Anjali', 'Arun', 'Aravind', 'Spandana']\n"
     ]
    }
   ],
   "source": [
    "print(students)"
   ]
  },
  {
   "cell_type": "code",
   "execution_count": 8,
   "metadata": {},
   "outputs": [
    {
     "name": "stdout",
     "output_type": "stream",
     "text": [
      "Arun\n"
     ]
    }
   ],
   "source": [
    "print(students[2])# picks inputs and assigns location starting from 0,1,2,3 and so on"
   ]
  },
  {
   "cell_type": "code",
   "execution_count": 13,
   "metadata": {},
   "outputs": [
    {
     "name": "stdout",
     "output_type": "stream",
     "text": [
      "Vandana\n"
     ]
    }
   ],
   "source": [
    "print(students[0].title())# Picks value at location 0 and displays data in title format"
   ]
  },
  {
   "cell_type": "code",
   "execution_count": 14,
   "metadata": {},
   "outputs": [
    {
     "name": "stdout",
     "output_type": "stream",
     "text": [
      "['vandana', 'Anjali', 'Arun', 'Aravind', 'Spandana']\n"
     ]
    }
   ],
   "source": [
    "print(students)"
   ]
  },
  {
   "cell_type": "code",
   "execution_count": 25,
   "metadata": {},
   "outputs": [
    {
     "name": "stdout",
     "output_type": "stream",
     "text": [
      "['vandana', 'Anjali', 'Arun', 'Manvitha', 'Sruthi', 'Manvitha']\n"
     ]
    }
   ],
   "source": [
    "students[4]='Sruthi'# reassigns new values to the desired location\n",
    "print(students)"
   ]
  },
  {
   "cell_type": "code",
   "execution_count": 26,
   "metadata": {},
   "outputs": [
    {
     "name": "stdout",
     "output_type": "stream",
     "text": [
      "['vandana', 'Anjali', 'Arun', 'Manvitha', 'Sruthi', 'Manvitha', 'Zuby']\n"
     ]
    }
   ],
   "source": [
    "students.append('Zuby')#New values can be added to list. Addition happens at the end of the list\n",
    "print(students)"
   ]
  },
  {
   "cell_type": "code",
   "execution_count": 27,
   "metadata": {},
   "outputs": [
    {
     "name": "stdout",
     "output_type": "stream",
     "text": [
      "['vandana', 'Anjali', 'Arun', 'Susmitha', 'Manvitha', 'Sruthi', 'Manvitha', 'Zuby']\n"
     ]
    }
   ],
   "source": [
    "students.insert(3,'Susmitha')#Inserting new value at a desired location\n",
    "print(students)"
   ]
  },
  {
   "cell_type": "code",
   "execution_count": 28,
   "metadata": {},
   "outputs": [
    {
     "name": "stdout",
     "output_type": "stream",
     "text": [
      "['vandana', 'Anjali', 'Arun', 'Susmitha', 'Manvitha', 'Sruthi', 'Zuby']\n"
     ]
    }
   ],
   "source": [
    "del students[6]#Deletes value at desired location\n",
    "print(students)"
   ]
  },
  {
   "cell_type": "code",
   "execution_count": 29,
   "metadata": {},
   "outputs": [
    {
     "name": "stdout",
     "output_type": "stream",
     "text": [
      "['vandana', 'Anjali', 'Arun', 'Susmitha', 'Manvitha', 'Zuby']\n"
     ]
    }
   ],
   "source": [
    "x=students.pop(5)# Deletes values temporarily and stores it in the variable allocated\n",
    "print(students)"
   ]
  },
  {
   "cell_type": "code",
   "execution_count": 30,
   "metadata": {},
   "outputs": [
    {
     "name": "stdout",
     "output_type": "stream",
     "text": [
      "Sruthi\n"
     ]
    }
   ],
   "source": [
    "print(x)#Displays values that are popped out"
   ]
  },
  {
   "cell_type": "code",
   "execution_count": null,
   "metadata": {},
   "outputs": [],
   "source": []
  }
 ],
 "metadata": {
  "kernelspec": {
   "display_name": "Python 3",
   "language": "python",
   "name": "python3"
  },
  "language_info": {
   "codemirror_mode": {
    "name": "ipython",
    "version": 3
   },
   "file_extension": ".py",
   "mimetype": "text/x-python",
   "name": "python",
   "nbconvert_exporter": "python",
   "pygments_lexer": "ipython3",
   "version": "3.7.6"
  }
 },
 "nbformat": 4,
 "nbformat_minor": 4
}
